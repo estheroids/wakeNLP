{
 "cells": [
  {
   "cell_type": "markdown",
   "metadata": {},
   "source": [
    "Language Processing *Finnegans Wake*\n",
    "====================\n",
    "\n",
    "Below we will explore some tools in the [Python Natural Language Tool Kit](http://www.nltk.org/) and see what we can reveal of what might be a shameful choice of a warke.\n",
    "\n",
    "If you're new to *Finnegans Wake* I'll do my best to explain some of the things I'm trying to examine.\n",
    "\n",
    "Motivation\n",
    "---------------------\n",
    "When James Joyce published his infamous work of obliterature, *Finnegans Wake*, he wanted \"to keep the critics busy for 300 years\".\n",
    "\n",
    "It's been 75 years so maybe and some [Viconian thunderclaps](http://www.yourepeat.com/watch/?v=a11DEFm0WCw&start_at=347&end_at=390) later. We have new media through which we can clarify some of the obscurity of *The Wake*.\n",
    "\n",
    "Drawbacks\n",
    "---------------------\n",
    "There are admittedly drawbacks to textual analysis of *Finnegans Wake*. Principally that *The Wake* is meant to be [read out loud](https://www.youtube.com/watch?v=M8kFqiv8Vww). There's information, double, triple,..., Nth-le meaning, that's revealed when heard aloud. We're not gonna access that information heare, nor will we be able to pick up puns.\n",
    "\n",
    "Getting Started\n",
    "---------------------\n",
    "First we import the python libraries we'll be using and the text of Finnegans Wake itself.\n",
    "\n",
    "Note: If you're having difficulty getting these running on your machine, I recommend checking out Anaconda for OSX, which handles python package installs relatively cleanly."
   ]
  },
  {
   "cell_type": "code",
   "execution_count": 3,
   "metadata": {
    "collapsed": false
   },
   "outputs": [
    {
     "ename": "TypeError",
     "evalue": "'file' object has no attribute '__getitem__'",
     "output_type": "error",
     "traceback": [
      "\u001b[0;31m---------------------------------------------------------------------------\u001b[0m",
      "\u001b[0;31mTypeError\u001b[0m                                 Traceback (most recent call last)",
      "\u001b[0;32m<ipython-input-3-bc8e194a7532>\u001b[0m in \u001b[0;36m<module>\u001b[0;34m()\u001b[0m\n\u001b[1;32m     11\u001b[0m \u001b[0;31m# Import Finnegans Wake\u001b[0m\u001b[0;34m\u001b[0m\u001b[0;34m\u001b[0m\u001b[0m\n\u001b[1;32m     12\u001b[0m \u001b[0mfw\u001b[0m \u001b[0;34m=\u001b[0m \u001b[0mopen\u001b[0m\u001b[0;34m(\u001b[0m\u001b[0;34m\"res/wake.txt\"\u001b[0m\u001b[0;34m)\u001b[0m\u001b[0;34m\u001b[0m\u001b[0m\n\u001b[0;32m---> 13\u001b[0;31m \u001b[0;32mprint\u001b[0m\u001b[0;34m(\u001b[0m\u001b[0mfw\u001b[0m\u001b[0;34m[\u001b[0m\u001b[0;36m0\u001b[0m\u001b[0;34m:\u001b[0m\u001b[0;36m1000\u001b[0m\u001b[0;34m]\u001b[0m\u001b[0;34m)\u001b[0m\u001b[0;34m\u001b[0m\u001b[0m\n\u001b[0m",
      "\u001b[0;31mTypeError\u001b[0m: 'file' object has no attribute '__getitem__'"
     ]
    }
   ],
   "source": [
    "from __future__ import division\n",
    "import numpy as np\n",
    "import matplotlib\n",
    "import matplotlib.pyplot as plt\n",
    "import nltk\n",
    "from nltk import word_tokenize\n",
    "%matplotlib inline\n",
    "\n",
    "from nltk.corpus import stopwords\n",
    "\n",
    "# Import Finnegans Wake\n",
    "fw = open(\"res/wake.txt\")\n",
    "print(fw)"
   ]
  },
  {
   "cell_type": "markdown",
   "metadata": {},
   "source": [
    "Languages\n",
    "---------------------\n",
    "Finnegans wake is written mostly in plain English. There are many non-english words as well. Many of those words are constructed by Joyce himself, english or multi-lingual puns and portmanteaus. Although *The Wake* uses many Languages. For this first section we're going to concern ourselves with only words that exist in six of the most popular languages in *The Wake*: English, Irish, Latin, French, German and Italian.\n",
    "\n",
    "First things first, we'll tag every word in the wake with a list of languages it matches."
   ]
  },
  {
   "cell_type": "code",
   "execution_count": null,
   "metadata": {
    "collapsed": true
   },
   "outputs": [],
   "source": [
    "# Import a list of all English Words\n",
    "\n",
    "# Import a list of all Irish Words.\n",
    "\n",
    "# Import a list of all German Words.\n",
    "\n",
    "# Import a list of all French Words.\n",
    "\n",
    "\n",
    "# Function takes in RAW0 text and returns a tuple of TOKENS0 and TOKENS1\n",
    "# tokenized lists with and without stopwords.\n",
    "def tokenize(raw0):\n",
    "  tokens0 = word_tokenize(raw)\n",
    "  tokens1 = [w for w in tokens0 if w.lower() not in stopwords.words('english')]\n",
    "  return tokens0, tokens1\n",
    "\n",
    "tokens0, tokens1 = tokenize(raw)\n",
    "eng_words_tokens = word_tokenize(raw_eng)\n",
    "\n",
    "print (\"Number of Words: \" + str(len(tokens0)))\n",
    "print (\"Number of Unique words: \" + str(len(set(tokens0))))\n",
    "ratio0 = len(set(tokens0)) / len(tokens0)\n",
    "print (\"Ratio of unique to total: \" + str(ratio0))\n",
    "\n",
    "eng_finn0 = [w for w in tokens0 if w.lower() in eng_words_tokens]\n",
    "print(\"Number of English words: \" + str(len(eng_finn0)))\n",
    "eng_ratio0 = len(eng_finn0)  / len(tokens0)\n",
    "print(\"Ratio of English words to total words: \" + str(eng_ratio0))\n",
    "\n",
    "print \"\\n Stops removed\"\n",
    "print (\"Number of Words: \" + str(len(tokens1)))\n",
    "print (\"Number of Unique: \" + str(len(set(tokens1))))\n",
    "ratio1 = len(set(tokens1)) / len(tokens1)\n",
    "print (\"Ratio of unique to total: \" + str(ratio1))\n",
    "\n",
    "eng_finn1 = [w for w in tokens1 if w.lower() in eng_words_tokens]\n",
    "print(\"Number of English words: \" + str(len(eng_finn1)))\n",
    "eng_ratio1 = len(eng_finn1)  / len(tokens1)\n",
    "print(\"Ratio of English words to total words: \" + str(eng_ratio1))"
   ]
  }
 ],
 "metadata": {
  "kernelspec": {
   "display_name": "Python 2",
   "language": "python",
   "name": "python2"
  },
  "language_info": {
   "codemirror_mode": {
    "name": "ipython",
    "version": 2
   },
   "file_extension": ".py",
   "mimetype": "text/x-python",
   "name": "python",
   "nbconvert_exporter": "python",
   "pygments_lexer": "ipython2",
   "version": "2.7.9"
  }
 },
 "nbformat": 4,
 "nbformat_minor": 0
}
