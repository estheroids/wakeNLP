{
 "cells": [
  {
   "cell_type": "markdown",
   "metadata": {},
   "source": [
    "Language Processing *Finnegans Wake*\n",
    "====================\n",
    "\n",
    "Below we will explore some tools in the [Python Natural Language Tool Kit](http://www.nltk.org/) and see what we can reveal of what might be a shameful choice of a warke.\n",
    "\n",
    "If you're new to *Finnegans Wake* I'll do my best to explain some of the things I'm trying to examine.\n",
    "\n",
    "Motivation\n",
    "---------------------\n",
    "When James Joyce published his infamous work of obliterature, *Finnegans Wake*, he wanted \"to keep the critics busy for 300 years\".\n",
    "\n",
    "It's been 75 years so maybe and some [Viconian thunderclaps](http://www.yourepeat.com/watch/?v=a11DEFm0WCw&start_at=347&end_at=390) later. We have new media through which we can clarify some of the obscurity of *The Wake*.\n",
    "\n",
    "Drawbacks\n",
    "---------------------\n",
    "There are admittedly drawbacks to textual analysis of *Finnegans Wake*. Principally that *The Wake* is meant to be [read out loud](https://www.youtube.com/watch?v=M8kFqiv8Vww). There's information, double, triple,..., Nth-le meaning, that's revealed when heard aloud. We're not gonna access that information heare, nor will we be able to pick up puns.\n",
    "\n",
    "Getting Started\n",
    "---------------------\n",
    "First we import the python libraries we'll be using and the text of Finnegans Wake itself.\n",
    "\n",
    "Note: If you're having difficulty getting these running on your machine, I recommend checking out Anaconda for OSX, which handles python package installs relatively cleanly."
   ]
  },
  {
   "cell_type": "code",
   "execution_count": 1,
   "metadata": {
    "collapsed": false
   },
   "outputs": [
    {
     "name": "stdout",
     "output_type": "stream",
     "text": [
      "[u'finnegans', u'wake', u',', u'by', u'james', u'joyce', u'i', u'riverrun', u',', u'past', u'eve', u'and', u'adam\\u2019s', u',', u'from', u'swerve', u'of', u'shore', u'to', u'bend', u'of', u'bay', u',', u'brings', u'us', u'by', u'a', u'commodius', u'vicus', u'of', u'recirculation', u'back', u'to', u'howth', u'castle', u'and', u'environs', u'.', u'sir', u'tristram', u',', u'violer', u'd\\u2019amores', u',', u'fr\\u2019over', u'the', u'short', u'sea', u',', u'had']\n"
     ]
    }
   ],
   "source": [
    "from __future__ import division\n",
    "import numpy as np\n",
    "\n",
    "# Plotting library\n",
    "import matplotlib\n",
    "import matplotlib.pyplot as plt\n",
    "# Plot graphs within ipython notebook\n",
    "%matplotlib inline\n",
    "\n",
    "# Python Natural Language Tool Kit\n",
    "import nltk\n",
    "from nltk import word_tokenize\n",
    "from nltk.corpus import stopwords\n",
    "\n",
    "# Define a function to import and tokenize a book from a filename,\n",
    "# Return a tuple of FULL_TEXT, TOKENIZED_TEXT\n",
    "def import_book(path):\n",
    "    full_text = open(path).read().decode('utf8')\n",
    "    tokenized_text = nltk.Text(word_tokenize(full_text))\n",
    "    tokenized_text = [w.lower() for w in tokenized_text]\n",
    "    return full_text, tokenized_text\n",
    "\n",
    "# Import Finnegans Wake and create token list\n",
    "wake, wake_tokens = import_book(\"res/wake.txt\")\n",
    "\n",
    "# Print to make sure we have only lowercase text and no punctuation tokens\n",
    "print(wake_tokens[0:50])"
   ]
  },
  {
   "cell_type": "markdown",
   "metadata": {},
   "source": [
    "Vocabulary Richness\n",
    "---------------------\n",
    "First things first, lets see just how linguistically rich *Finnegans Wake* is. A popular metric for vocabulary richness is ratio of unique words to total words. We'll define a function that takes a text title and its tokens and returns its richness ratio."
   ]
  },
  {
   "cell_type": "code",
   "execution_count": 6,
   "metadata": {
    "collapsed": false
   },
   "outputs": [
    {
     "name": "stdout",
     "output_type": "stream",
     "text": [
      "======FINNEGANS WAKE======\n",
      "Number of total words: 258468\n",
      "Number of unique words: 58629\n",
      "Ratio of unique to total: 0.226832722039\n",
      "\n"
     ]
    }
   ],
   "source": [
    "def richness(title, tokens):\n",
    "    total_words = len(tokens)\n",
    "    print (\"======\" + title.upper() + \"======\")\n",
    "    print (\"Number of total words: \" + str(total_words))\n",
    "    total_unique_words = len(set(tokens))\n",
    "    print (\"Number of unique words: \" + str(total_unique_words))\n",
    "    richness_ratio = total_unique_words / total_words\n",
    "    print (\"Ratio of unique to total: \" + str(richness_ratio) + \"\\n\")\n",
    "    \n",
    "richness(\"Finnegans Wake\", wake_tokens)\n"
   ]
  },
  {
   "cell_type": "markdown",
   "metadata": {},
   "source": [
    "Hmm, 22.7% for a 258,468-word book.\n",
    "\n",
    "Let's see that ratio for 250,000-words worth of Herman Melville' *Moby Dick* and James Joyce's *Ulysses*.\n"
   ]
  },
  {
   "cell_type": "code",
   "execution_count": 7,
   "metadata": {
    "collapsed": false
   },
   "outputs": [
    {
     "name": "stdout",
     "output_type": "stream",
     "text": [
      "======ULYSSES======\n",
      "Number of total words: 319471\n",
      "Number of unique words: 30399\n",
      "Ratio of unique to total: 0.0951541767484\n",
      "\n",
      "======MOBY DICK======\n",
      "Number of total words: 250542\n",
      "Number of unique words: 18413\n",
      "Ratio of unique to total: 0.073492667896\n",
      "\n"
     ]
    }
   ],
   "source": [
    "# Import Ulysses and create token list\n",
    "ulysses, ulysses_tokens = import_book(\"res/ulysses.txt\")\n",
    "\n",
    "# Import Moby Dick and create token list\n",
    "mobydick, mobydick_tokens = import_book(\"res/mobydick.txt\")\n",
    "\n",
    "richness(\"Ulysses\", ulysses_tokens)\n",
    "richness(\"Moby Dick\", mobydick_tokens)\n"
   ]
  },
  {
   "cell_type": "markdown",
   "metadata": {},
   "source": [
    "*Ulysses* has 9.5% richness for a similar amount of words.\n",
    "\n",
    "*Moby Dick* has 7.3% richness for a similar amount of words.\n",
    "\n",
    "22.7% means *Finnegans Wake* is incredibly rich.\n"
   ]
  },
  {
   "cell_type": "markdown",
   "metadata": {},
   "source": [
    "HCE and ALP\n",
    "---------------------\n",
    "Hundreds of characters appear in *Finnegans Wake* but all of those characters are actually just manifestations or sub-manifestations of man and woman, husband and wife, mountain and river, space and time. Joyce calls them HCE and ALP.\n",
    "\n",
    "Let's list all the different occurances of the initials HCE and ALP."
   ]
  },
  {
   "cell_type": "code",
   "execution_count": null,
   "metadata": {
    "collapsed": true
   },
   "outputs": [],
   "source": []
  },
  {
   "cell_type": "code",
   "execution_count": null,
   "metadata": {
    "collapsed": true
   },
   "outputs": [],
   "source": []
  },
  {
   "cell_type": "markdown",
   "metadata": {},
   "source": [
    "Mostly English\n",
    "---------------------\n",
    "*Finnegans Wake* seems inscrutable but many Joyceans say that the best guide to the wake is just a comprehensive English dictionary. Let's see just how many words in Finnegans are actually in English.\n",
    "\n",
    "We'll import a list of English words then see if we can find each word in that English word list."
   ]
  },
  {
   "cell_type": "code",
   "execution_count": null,
   "metadata": {
    "collapsed": true
   },
   "outputs": [],
   "source": [
    "# Import a list of all English Words\n",
    "en_words = open('res/en-words.txt').read().decode('utf8')\n",
    "eng_words_tokens = word_tokenize(en_words)\n",
    "\n",
    "#ENG_WAKE is the full text of Finnegans Wake with all non-English words removed\n",
    "eng_wake = [w for w in wake_tokens if w.lower() in eng_words_tokens]\n",
    "eng_ratio = len(eng_wake)  / len(wake_tokens)\n",
    "print(\"Ratio of English words to total words: \" + str(eng_ratio))"
   ]
  },
  {
   "cell_type": "markdown",
   "metadata": {},
   "source": [
    "Languages\n",
    "---------------------\n",
    "*Finnegans Wake* may be written mostly in plain English. There are many non-english words as well. Many of those words are constructed by Joyce himself, english or multi-lingual puns and portmanteaus. Although *The Wake* uses many Languages. For this first section we're going to concern ourselves with only words that exist in six of the most popular languages in *The Wake*: English, Irish, Latin, French, German and Italian."
   ]
  },
  {
   "cell_type": "code",
   "execution_count": null,
   "metadata": {
    "collapsed": true
   },
   "outputs": [],
   "source": []
  }
 ],
 "metadata": {
  "kernelspec": {
   "display_name": "Python 2",
   "language": "python",
   "name": "python2"
  },
  "language_info": {
   "codemirror_mode": {
    "name": "ipython",
    "version": 2
   },
   "file_extension": ".py",
   "mimetype": "text/x-python",
   "name": "python",
   "nbconvert_exporter": "python",
   "pygments_lexer": "ipython2",
   "version": "2.7.9"
  }
 },
 "nbformat": 4,
 "nbformat_minor": 0
}
